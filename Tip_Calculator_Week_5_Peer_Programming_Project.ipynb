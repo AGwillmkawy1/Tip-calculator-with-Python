{
 "cells": [
  {
   "cell_type": "code",
   "execution_count": 1,
   "id": "3c6ff06e",
   "metadata": {},
   "outputs": [
    {
     "name": "stdout",
     "output_type": "stream",
     "text": [
      "Charge for food = $50\n",
      "Tip = $9.0\n",
      "Sales tax = $3.5\n",
      "Grand total = $62.5\n"
     ]
    }
   ],
   "source": [
    "# ask the user to enter the charge for the food\n",
    "charge = float(input(\"Charge for food = $\"))\n",
    "\n",
    "# calculate the amounts of an 18% tip and 7% sales tax on the charge of the food\n",
    "tip = round(charge * 0.18, 2)\n",
    "sales_tax = round(charge * 0.07, 2)\n",
    "\n",
    "# display the tip and sales tax amounts\n",
    "print(\"Tip = $\" + str(tip))\n",
    "print(\"Sales tax = $\" + str(sales_tax))\n",
    "\n",
    "# calculate the total amount (charge of the food plus tip and sales tax)\n",
    "total = round(charge + tip + sales_tax, 2)\n",
    "\n",
    "# display the total amount\n",
    "print(\"Grand total = $\" + str(total))\n"
   ]
  },
  {
   "cell_type": "code",
   "execution_count": null,
   "id": "6d693ff4",
   "metadata": {},
   "outputs": [],
   "source": []
  }
 ],
 "metadata": {
  "kernelspec": {
   "display_name": "Python 3 (ipykernel)",
   "language": "python",
   "name": "python3"
  },
  "language_info": {
   "codemirror_mode": {
    "name": "ipython",
    "version": 3
   },
   "file_extension": ".py",
   "mimetype": "text/x-python",
   "name": "python",
   "nbconvert_exporter": "python",
   "pygments_lexer": "ipython3",
   "version": "3.9.13"
  }
 },
 "nbformat": 4,
 "nbformat_minor": 5
}
